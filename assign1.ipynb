{
 "cells": [
  {
   "cell_type": "markdown",
   "metadata": {},
   "source": [
    "Imports"
   ]
  },
  {
   "cell_type": "code",
   "execution_count": 17,
   "metadata": {},
   "outputs": [],
   "source": [
    "import pandas as pd\n",
    "from sklearn.svm import SVC\n",
    "from sklearn.naive_bayes import GaussianNB"
   ]
  },
  {
   "cell_type": "markdown",
   "metadata": {},
   "source": [
    "Class for Classifiers"
   ]
  },
  {
   "cell_type": "code",
   "execution_count": 18,
   "metadata": {},
   "outputs": [],
   "source": [
    "class Classifier():\n",
    "    def __init__(self):\n",
    "        self.X = dataf.drop(['Outcome'], axis=1)\n",
    "        self.y = dataf['Outcome']\n",
    "\n",
    "    def svm(self):\n",
    "        svm = SVC(gamma='auto')\n",
    "        svm.fit(self.X, self.y)\n",
    "        print('The accuracy of SVM is ', svm.score(self.X, self.y)*100, '%')\n",
    "        print('The predicted values are ', list(svm.predict(self.X)))\n",
    "        print('\\n')\n",
    "\n",
    "    def gnb(self):\n",
    "        gnb = GaussianNB()\n",
    "        gnb.fit(self.X, self.y)\n",
    "        print('The accuracy of Gaussian Naive Bayes is ',\n",
    "              gnb.score(self.X, self.y)*100, '%')\n",
    "        print('The predicted values are ', list(gnb.predict(self.X)))\n",
    "        print('\\n')"
   ]
  },
  {
   "cell_type": "markdown",
   "metadata": {},
   "source": [
    "Main Function"
   ]
  },
  {
   "cell_type": "code",
   "execution_count": 19,
   "metadata": {},
   "outputs": [
    {
     "name": "stdout",
     "output_type": "stream",
     "text": [
      "The accuracy of SVM is  100.0 %\n",
      "The predicted values are  [1, 0, 0, 1, 0, 0, 0, 0, 0, 1]\n",
      "\n",
      "\n",
      "The accuracy of Gaussian Naive Bayes is  100.0 %\n",
      "The predicted values are  [1, 0, 0, 1, 0, 0, 0, 0, 0, 1]\n",
      "\n",
      "\n"
     ]
    }
   ],
   "source": [
    "if __name__ == \"__main__\":\n",
    "    data = {\n",
    "        'Pregnancies': [1, 9, 6, 2, 11, 1, 0, 10, 12, 2],\n",
    "        'Glucose': [145, 151, 120, 167, 83, 99, 140, 88, 103, 129],\n",
    "        'BloodPressure': [80, 62, 80, 0, 65, 58, 85, 58, 68, 62],\n",
    "        'SkinThickness': [46, 31, 48, 0, 28, 10, 33, 26, 40, 36],\n",
    "        'Insulin': [130, 120, 200, 0, 66, 0, 0, 16, 0, 0],\n",
    "        'BMI': [37.9, 35.5, 38.9, 32.3, 36.8, 25.4, 37.4, 28.4, 46.2, 41.2],\n",
    "        'DiabetesPedigreeFunction': [0.637, 0.692, 1.162, 0.839, 0.629, 0.551, 0.244, 0.766, 0.126, 0.441],\n",
    "        'Age': [40, 28, 41, 30, 24, 21, 41, 22, 42, 38],\n",
    "        'Outcome': [1, 0, 0, 1, 0, 0, 0, 0, 0, 1]\n",
    "    }\n",
    "    dataf = pd.DataFrame(data)\n",
    "\n",
    "    n = int(input('Enter an option\\n 0. Exit\\n 1. SVM\\n 2. Naive Bayes\\n '))\n",
    "    \n",
    "    while True:\n",
    "        if n == 0:\n",
    "            break\n",
    "        elif n == 1:\n",
    "            cinst = Classifier()\n",
    "            cinst.svm()\n",
    "\n",
    "        elif n == 2:\n",
    "            cinst = Classifier()\n",
    "            cinst.gnb()\n",
    "        \n",
    "        n = int(input('Enter an option\\n 0. Exit\\n 1. SVM\\n 2. Naive Bayes\\n '))"
   ]
  },
  {
   "cell_type": "markdown",
   "metadata": {},
   "source": [
    "Actual Outcomes = [1, 0, 0, 1, 0, 0, 0, 0, 0, 1]"
   ]
  }
 ],
 "metadata": {
  "kernelspec": {
   "display_name": "Python 3 (ipykernel)",
   "language": "python",
   "name": "python3"
  },
  "language_info": {
   "codemirror_mode": {
    "name": "ipython",
    "version": 3
   },
   "file_extension": ".py",
   "mimetype": "text/x-python",
   "name": "python",
   "nbconvert_exporter": "python",
   "pygments_lexer": "ipython3",
   "version": "3.10.2"
  },
  "vscode": {
   "interpreter": {
    "hash": "6fb996f9db7db23e4f714c035d08cc8b5f45c750693f36fb368a56f4d1be34c1"
   }
  }
 },
 "nbformat": 4,
 "nbformat_minor": 2
}
